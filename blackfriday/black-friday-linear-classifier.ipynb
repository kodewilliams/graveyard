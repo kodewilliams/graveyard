{
  "nbformat": 4,
  "nbformat_minor": 0,
  "metadata": {
    "colab": {
      "name": "Black Friday Expense Linear Classifier — Team Yaad.ipynb",
      "version": "0.3.2",
      "provenance": [],
      "collapsed_sections": []
    },
    "kernelspec": {
      "name": "python3",
      "display_name": "Python 3"
    }
  },
  "cells": [
    {
      "metadata": {
        "id": "xuMM7v4cCeP7",
        "colab_type": "text"
      },
      "cell_type": "markdown",
      "source": [
        "# Black Friday Expense Predictor\n",
        "  \n",
        "### Description\n",
        "\n",
        "The aim is to determine the amount of money an individual spends on Black Friday. The dataset we will be using is the Black Friday dataset provided by Kaggle.\n",
        "\n",
        "\n",
        "### Authors\n",
        "- Ruel Gordon\n",
        "- Shumba Brown\n",
        "- Kode Williams\n",
        "\n",
        "Copyright © 2018. All Rights Reserved."
      ]
    },
    {
      "metadata": {
        "id": "Cdf4K20hF-_E",
        "colab_type": "text"
      },
      "cell_type": "markdown",
      "source": [
        "### Library Imports"
      ]
    },
    {
      "metadata": {
        "id": "mmWtvOrEDIkz",
        "colab_type": "code",
        "outputId": "1d100186-3238-4057-dfad-e81323b4ad10",
        "colab": {
          "base_uri": "https://localhost:8080/",
          "height": 34
        }
      },
      "cell_type": "code",
      "source": [
        "import fnmatch\n",
        "import math\n",
        "import random\n",
        "\n",
        "from IPython import display\n",
        "from matplotlib import cm\n",
        "from matplotlib import gridspec\n",
        "from matplotlib import pyplot as plt\n",
        "import numpy as np\n",
        "import pandas as pd\n",
        "from sklearn import metrics\n",
        "import tensorflow as tf\n",
        "from tensorflow.python.data import Dataset\n",
        "import seaborn as sns\n",
        "\n",
        "# This line increases the amount of logging when there is an error.  You can\n",
        "# remove it if you want less logging\n",
        "tf.logging.set_verbosity(tf.logging.ERROR)\n",
        "\n",
        "# Set the output display to have two digits for decimal places, for display\n",
        "# readability only and limit it to printing 15 rows.\n",
        "pd.options.display.float_format = '{:.2f}'.format\n",
        "pd.options.display.max_rows = 25\n",
        "\n",
        "print (\"Libraries loaded.\")\n",
        "\n",
        "# Dataset hosted here\n",
        "# https://raw.githubusercontent.com/kodewilliams/blackfridaypredictor/master/BlackFriday.csv\n"
      ],
      "execution_count": 0,
      "outputs": [
        {
          "output_type": "stream",
          "text": [
            "Libraries loaded.\n"
          ],
          "name": "stdout"
        }
      ]
    },
    {
      "metadata": {
        "id": "w-oWKV3VGL_e",
        "colab_type": "text"
      },
      "cell_type": "markdown",
      "source": [
        "### Description of Dataset\n",
        "\n",
        "The data contains 550,000 purchases by individuals from a multitude of demographics.\n",
        "\n",
        "**Fields in the data include**:\n",
        "* User ID\n",
        "* Product ID\n",
        "* Product Category\n",
        "* Gender\n",
        "* Age Range\n",
        "* Occupation\n",
        "* Category of city (A/B/C)\n",
        "* Length of time in city\n",
        "* Marital status\n",
        "\n",
        "<br>    \n",
        "\n",
        "**Feature Transformations**  \n",
        "\n",
        "- We will have to perform numerous feature engineering procedures on the features\n",
        "shown above. \n",
        "\n",
        "- Firstly we will have to do some data cleaning on age range and on the length of time in the city; currently they are represented as strings but we want to treat them numerically. Some features we will place in groups as either numerical or categorical for training purposes.\n",
        "\n",
        "- We will also do one transformation on the purchase (which is our label and predicted value), we would like to represent the purchase value in bins or categories. For example, if someone spends 600 dollars that person might be spending in a \"lower bin\" but they spent 7000 they might be spending in a \"higher bin\"; we will also have bins or groups (middle low, middle high) in between.\n",
        " \n",
        "<br>\n",
        "\n",
        "**Visualization**\n",
        "\n",
        "- We plan to make scatter plots after the data is sanitized and the features are transformed so we can see how the data looks in comparison to the label.\n",
        "\n",
        "- We will also create calibration plots and ROC curves etc. to see how accurate the model is and will use histograms and other statistics graphs to determine what type of scaling to do.\n",
        "\n",
        "\n"
      ]
    },
    {
      "metadata": {
        "id": "rnQJ-voPKl8A",
        "colab_type": "text"
      },
      "cell_type": "markdown",
      "source": [
        "### Prepare Features"
      ]
    },
    {
      "metadata": {
        "id": "-1ge10HWOppf",
        "colab_type": "code",
        "colab": {}
      },
      "cell_type": "code",
      "source": [
        "# Linearly rescales to the range [0, 1]\n",
        "def linear_scale(series):\n",
        "  min_val = series.min()\n",
        "  max_val = series.max()\n",
        "  scale = 1.0 * (max_val - min_val)\n",
        "  return series.apply(lambda x:((x - min_val) / scale))\n",
        "\n",
        "# Perform log scaling\n",
        "def log_scale(series):\n",
        "  return series.apply(lambda x:math.log(x+1.0))\n",
        "\n",
        "# Clip all features to given min and max\n",
        "def clip(series, clip_to_min, clip_to_max):\n",
        "  # You need to modify this to actually do the clipping versus just returning\n",
        "  # the series unchanged.\n",
        "  return series.apply(lambda x: clip_to_min if x <= clip_to_min else (clip_to_max if x >= clip_to_max else x))"
      ],
      "execution_count": 0,
      "outputs": []
    },
    {
      "metadata": {
        "colab_type": "code",
        "id": "zFoELnIrpO2r",
        "colab": {}
      },
      "cell_type": "code",
      "source": [
        "# Converts age range to numerical feature\n",
        "# {'0-17', '51-55', '55+', '46-50', '36-45', '26-35', '18-25'}\n",
        "def age_to_value(age):\n",
        "  if age == '55+':\n",
        "    return 6\n",
        "  '''elif age == '51-55':\n",
        "    return 5\n",
        "  elif age == '46-50':\n",
        "    return 4\n",
        "  elif age == '36-45':\n",
        "    return 3\n",
        "  elif age == '26-35':\n",
        "    return 2\n",
        "  elif age == '18-25':\n",
        "    return 1\n",
        "  else:\n",
        "    return 0'''\n",
        "  return int(age[0])\n",
        "\n",
        "# Converts city category to numerical feature\n",
        "def city_value(category):\n",
        "  if category == 'A':\n",
        "    return 2\n",
        "  elif category == 'B':\n",
        "    return 1\n",
        "  return 0\n",
        "\n",
        "# Converts city stay to numerical feature\n",
        "def city_stay(stay):\n",
        "  return int(stay[0])"
      ],
      "execution_count": 0,
      "outputs": []
    },
    {
      "metadata": {
        "id": "NXMTUnWJCVgz",
        "colab_type": "code",
        "colab": {}
      },
      "cell_type": "code",
      "source": [
        "# Show plots and histograms for features\n",
        "\n",
        "NUMERICAL_FEATURES = [(\"occupation\", 20), (\"city_years\", 5), (\"age\", 7), (\"product_category\", 50)]\n",
        "\n",
        "def draw_histograms(dataframe, feature_name):\n",
        "  plt.figure(figsize=(20, 4))\n",
        "  plt.subplot(1, 3, 1)\n",
        "  plt.title(feature_name[0])\n",
        "  histogram = dataframe[feature_name[0]].hist(bins=feature_name[1])\n",
        "\n",
        "  plt.subplot(1, 3, 2)\n",
        "  plt.title(\"Linear Scaled\")\n",
        "  scaled_features = pd.DataFrame()\n",
        "  scaled_features[feature_name[0]] = linear_scale(dataframe[feature_name[0]])\n",
        "  histogram = scaled_features[feature_name[0]].hist(bins=feature_name[1])\n",
        "  \n",
        "  plt.subplot(1, 3, 3)\n",
        "  plt.title(\"Log Scaled\")\n",
        "  log_normalized_features = pd.DataFrame()\n",
        "  log_normalized_features[feature_name[0]] = log_scale(dataframe[feature_name[0]])\n",
        "  histogram = log_normalized_features[feature_name[0]].hist(bins=feature_name[1])\n",
        "\n",
        "# for FEATURE in NUMERICAL_FEATURES:\n",
        "#   draw_histograms(training_data, FEATURE)\n",
        "#   print(\"\\n\")"
      ],
      "execution_count": 0,
      "outputs": []
    },
    {
      "metadata": {
        "id": "Gu4mQ4j3evXC",
        "colab_type": "code",
        "colab": {}
      },
      "cell_type": "code",
      "source": [
        "def scatter_plot(features, targets, slopes=[], biases=[], model_names=[]):\n",
        "  \"\"\" Creates a scatter plot of input_feature vs target along with the models.\n",
        "  \n",
        "  Args:\n",
        "    features: list of the input features\n",
        "    targets: list of targets\n",
        "    slopes: list of model weight (slope) \n",
        "    bias: list of model bias (same size as slopes)\n",
        "    model_names: list of model_names to use for legend (same size as slopes)\n",
        "  \"\"\"      \n",
        "  # Define some colors to use that go from blue towards red\n",
        "  colors = [cm.coolwarm(x) for x in np.linspace(0, 1, len(slopes))]\n",
        "  \n",
        "  # Generate the Scatter plot\n",
        "  plt.ylabel(\"target\")\n",
        "  plt.xlabel(\"input feature\")\n",
        "  plt.scatter(features, targets, color='black', label=\"\")\n",
        "  # Add the lines corresponding to the provided models\n",
        "  for i in range (0, len(slopes)):\n",
        "    y_0 = slopes[i] * features.min() + biases[i]\n",
        "    y_1 = slopes[i] * features.max() + biases[i]\n",
        "    plt.plot([features.min(), features.max()], [y_0, y_1],\n",
        "             label=model_names[i], color=colors[i])\n",
        "  if (len(model_names) > 0):\n",
        "    plt.legend(bbox_to_anchor=(1.05, 1), loc=2, borderaxespad=0.)"
      ],
      "execution_count": 0,
      "outputs": []
    },
    {
      "metadata": {
        "id": "Df2Vc_0ZkIx-",
        "colab_type": "code",
        "outputId": "c5389f86-4c9a-4dd4-c97b-67f3c2662e6b",
        "colab": {
          "base_uri": "https://localhost:8080/",
          "height": 378
        }
      },
      "cell_type": "code",
      "source": [
        "sns.distplot(df.loc[:,'purchase'])"
      ],
      "execution_count": 0,
      "outputs": [
        {
          "output_type": "execute_result",
          "data": {
            "text/plain": [
              "<matplotlib.axes._subplots.AxesSubplot at 0x7fa8962e97f0>"
            ]
          },
          "metadata": {
            "tags": []
          },
          "execution_count": 40
        },
        {
          "output_type": "display_data",
          "data": {
            "image/png": "[encoded data removed]",
            "text/plain": [
              "<matplotlib.figure.Figure at 0x7fa896385c50>"
            ]
          },
          "metadata": {
            "tags": []
          }
        }
      ]
    },
    {
      "metadata": {
        "id": "KWuqk1WfHhUK",
        "colab_type": "code",
        "outputId": "5805bac6-f4ea-45de-9583-0e8e7301cfa9",
        "colab": {
          "base_uri": "https://localhost:8080/",
          "height": 402
        }
      },
      "cell_type": "code",
      "source": [
        "gender_count = df['gender'].value_counts()\n",
        "gender_count.index = [\"Male\",\"Female\"]\n",
        "gender_count.plot(kind = 'bar', title=\"Males and females on black friday sale\", legend=\"True\")"
      ],
      "execution_count": 0,
      "outputs": [
        {
          "output_type": "execute_result",
          "data": {
            "text/plain": [
              "<matplotlib.axes._subplots.AxesSubplot at 0x7fa8962adeb8>"
            ]
          },
          "metadata": {
            "tags": []
          },
          "execution_count": 41
        },
        {
          "output_type": "display_data",
          "data": {
            "image/png": "[encoded data removed]",
            "text/plain": [
              "<matplotlib.figure.Figure at 0x7fa8962c4588>"
            ]
          },
          "metadata": {
            "tags": []
          }
        }
      ]
    },
    {
      "metadata": {
        "id": "NZmC5MlAeZbH",
        "colab_type": "code",
        "outputId": "993046d0-c9e7-4788-fa57-19efeb467d21",
        "colab": {
          "base_uri": "https://localhost:8080/",
          "height": 423
        }
      },
      "cell_type": "code",
      "source": [
        "data=df.loc[:,['age','gender', 'purchase']].groupby(['age','gender']).sum()\n",
        "data.reset_index(drop=False, inplace = True)\n",
        "sns.barplot(x= data['age'], y=data['purchase'], data = data , hue = data['gender'])"
      ],
      "execution_count": 0,
      "outputs": [
        {
          "output_type": "stream",
          "text": [
            "/usr/local/lib/python3.6/dist-packages/seaborn/categorical.py:1468: FutureWarning: remove_na is deprecated and is a private function. Do not use.\n",
            "  stat_data = remove_na(group_data[hue_mask])\n"
          ],
          "name": "stderr"
        },
        {
          "output_type": "execute_result",
          "data": {
            "text/plain": [
              "<matplotlib.axes._subplots.AxesSubplot at 0x7fd5854059e8>"
            ]
          },
          "metadata": {
            "tags": []
          },
          "execution_count": 16
        },
        {
          "output_type": "display_data",
          "data": {
            "image/png": "[encoded data removed]",
            "text/plain": [
              "<matplotlib.figure.Figure at 0x7fd5853ca828>"
            ]
          },
          "metadata": {
            "tags": []
          }
        }
      ]
    },
    {
      "metadata": {
        "id": "AQrmvbAAo0sS",
        "colab_type": "code",
        "colab": {}
      },
      "cell_type": "code",
      "source": [
        "def map_gender(gender):\n",
        "    if gender == 'M':\n",
        "        return 1\n",
        "    else:\n",
        "        return 0"
      ],
      "execution_count": 0,
      "outputs": []
    },
    {
      "metadata": {
        "id": "ZSqVdjlqmzs0",
        "colab_type": "code",
        "outputId": "0080b6dd-d631-4817-a7b4-3e06fb8af18a",
        "colab": {
          "base_uri": "https://localhost:8080/",
          "height": 554
        }
      },
      "cell_type": "code",
      "source": [
        "data = df.copy()\n",
        "data['gender'] = data['gender'].apply(map_gender)\n",
        "\n",
        "corrmat = data.corr()\n",
        "fig,ax = plt.subplots(figsize = (12,9))\n",
        "sns.heatmap(corrmat, vmax=.8, square=True)"
      ],
      "execution_count": 0,
      "outputs": [
        {
          "output_type": "execute_result",
          "data": {
            "text/plain": [
              "<matplotlib.axes._subplots.AxesSubplot at 0x7fd5853f1c18>"
            ]
          },
          "metadata": {
            "tags": []
          },
          "execution_count": 18
        },
        {
          "output_type": "display_data",
          "data": {
            "image/png": "[encoded data removed]",
            "text/plain": [
              "<matplotlib.figure.Figure at 0x7fd5853fe978>"
            ]
          },
          "metadata": {
            "tags": []
          }
        }
      ]
    },
    {
      "metadata": {
        "id": "c0bhMQn1iCfH",
        "colab_type": "text"
      },
      "cell_type": "markdown",
      "source": [
        "### Loss and Input Functions"
      ]
    },
    {
      "metadata": {
        "colab_type": "code",
        "id": "0g_ydAboY4Lv",
        "colab": {}
      },
      "cell_type": "code",
      "source": [
        "def calibration_plot(predictions, targets):\n",
        "  \"\"\" Creates a calibration plot.\n",
        "  \n",
        "  Args:\n",
        "    predictions: a list of values predicted by the model being visualized\n",
        "    targets: a list of the target values being predicted that must be the\n",
        "             same size as predictions.\n",
        "  \"\"\"  \n",
        "  calibration_data = pd.DataFrame()\n",
        "  calibration_data[\"predictions\"] = pd.Series(predictions)\n",
        "  calibration_data[\"targets\"] = pd.Series(targets)\n",
        "  calibration_data.describe()\n",
        "  min_val = calibration_data[\"predictions\"].min()\n",
        "  max_val = calibration_data[\"predictions\"].max()\n",
        "  plt.ylabel(\"target\")\n",
        "  plt.xlabel(\"prediction\")\n",
        "  plt.scatter(predictions, targets, color='black')\n",
        "  plt.plot([min_val, max_val], [min_val, max_val])"
      ],
      "execution_count": 0,
      "outputs": []
    },
    {
      "metadata": {
        "id": "I9OaM-6Kqhy6",
        "colab_type": "code",
        "colab": {}
      },
      "cell_type": "code",
      "source": [
        "# Function to train any linear model using a calibration plot to help visualize\n",
        "# the final model\n",
        "\n",
        "def train_model(linear_regressor, training_features, training_labels,\n",
        "                validation_features, validation_labels, steps, batch_size):\n",
        "  \"\"\"Trains a linear regression model.\n",
        "  \n",
        "  Args:\n",
        "    linear_regressor: The regressor to train\n",
        "    training_features: The input features from the training data\n",
        "    training_labels: the labels from the training data\n",
        "    validatin_features: The input features from the validation data\n",
        "    validation_labels: the labels from the validation data\n",
        "    steps: A non-zero `int`, the total number of training steps.\n",
        "    batch_size: A non-zero `int`, the batch size.\n",
        "    \n",
        "  Returns:\n",
        "    The trained regressor\n",
        "  \"\"\"\n",
        "  # In order to see how the model evolves as we train it, we will divide the\n",
        "  # steps into periods and show the model after each period.\n",
        "  periods = 10\n",
        "  steps_per_period = steps / periods\n",
        "  \n",
        "  # Set up the training_input_fn, predict_training_input_fn, and\n",
        "  # predict_validation_input_fn\n",
        "  training_input_fn = lambda: input_fn(training_features, training_labels,\n",
        "                                       batch_size=batch_size)\n",
        "  predict_training_input_fn = lambda: input_fn(training_features,\n",
        "                                               training_labels,\n",
        "                                               num_epochs=1, shuffle=False)\n",
        "  predict_validation_input_fn = lambda: input_fn(validation_features,\n",
        "                                                 validation_labels,\n",
        "                                                 num_epochs=1, shuffle=False)\n",
        "  \n",
        "  # Train the model, but do so inside a loop so that we can periodically assess\n",
        "  # loss metrics.  We store the training losses to generate the training curve\n",
        "  print(\"Training model...\")\n",
        "  training_losses = []\n",
        "  validation_losses = []\n",
        "\n",
        "  for period in range (0, periods):\n",
        "    # Call fit to train the regressor for steps_per_period steps\n",
        "    _ = linear_regressor.train(input_fn=training_input_fn, steps=steps_per_period)\n",
        "\n",
        "    # Use the predict method to compute the training loss\n",
        "    predictions_1 = linear_regressor.predict(input_fn=predict_training_input_fn)\n",
        "    predictions_1 = np.array([item['predictions'][0] for item in predictions_1])\n",
        "    training_loss = compute_loss(predictions_1, training_labels)\n",
        "    training_losses.append(training_loss) \n",
        "    \n",
        "    # Use the predict method to compute the validation loss\n",
        "    predictions = linear_regressor.predict(input_fn=predict_validation_input_fn)\n",
        "    predictions = np.array([item['predictions'][0] for item in predictions])\n",
        "    validation_loss = compute_loss(predictions, validation_labels)\n",
        "    validation_losses.append(validation_loss) \n",
        "    print(\"  Training loss, Validation loss after period %02d : %0.3f, %0.3f\" % \\\n",
        "      (period, training_loss, validation_loss))\n",
        "      \n",
        "  # Now that training is done print the final training and validation loss    \n",
        "  print(\"Final Loss (RMSE) on the training data: %0.3f\" % training_loss) \n",
        "  print(\"Final Loss (RMSE) on the validation data: %0.3f\" % validation_loss) \n",
        "  \n",
        "  # Generate a figure with the learning curve on the left and a calibration\n",
        "  # plot on the right.\n",
        "  plt.figure(figsize=(10, 5))\n",
        "  plt.subplot(1, 2, 1)\n",
        "  plt.title(\"Learning Curve (RMSE vs time)\")\n",
        "  plot_learning_curve(training_losses, validation_losses)\n",
        "\n",
        "  plt.subplot(1, 2, 2)\n",
        "  plt.tight_layout(pad=1.1, w_pad=3.0, h_pad=3.0)\n",
        "  plt.title(\"Calibration Plot on Validation Data\")\n",
        "  calibration_plot(predictions, validation_labels)\n",
        "   \n",
        "  return linear_regressor"
      ],
      "execution_count": 0,
      "outputs": []
    },
    {
      "metadata": {
        "id": "nqfdHNl-ru3b",
        "colab_type": "code",
        "colab": {}
      },
      "cell_type": "code",
      "source": [
        "def plot_learning_curve(training_losses, validation_losses):\n",
        "  \"\"\" Plot the learning curve.\n",
        "  \n",
        "  Args:\n",
        "    training_loses: a list of losses to plot.\n",
        "    validation_losses: a list of validation losses to plot.\n",
        "  \"\"\"        \n",
        "  plt.ylabel('Loss')\n",
        "  plt.xlabel('Training Steps')\n",
        "  plt.plot(training_losses, label=\"training\")\n",
        "  plt.plot(validation_losses, label=\"validation\")\n",
        "  plt.legend(loc=1)"
      ],
      "execution_count": 0,
      "outputs": []
    },
    {
      "metadata": {
        "id": "wIdACWVBHTva",
        "colab_type": "text"
      },
      "cell_type": "markdown",
      "source": [
        "**Below we will implement the linear classfier - Ruel**\n",
        "\n",
        "\n"
      ]
    },
    {
      "metadata": {
        "id": "Vkyf3k5PiP__",
        "colab_type": "code",
        "colab": {}
      },
      "cell_type": "code",
      "source": [
        "# Retrieve the data set and rename the necessary things\n",
        "\n",
        "COLUMNS = [\"user_id\", \"product_id\", \"gender\", \"age\", \"occupation\",\n",
        "            \"city_category\", \"stay_in_current_city_years\", \"marital_status\", \n",
        "            \"product_category_3\", \"purchase\"]\n",
        "\n",
        "url = \"https://raw.githubusercontent.com/kodewilliams/blackfridaypredictor/master/BlackFriday.csv\"\n",
        "df2 = pd.read_csv(url, sep=\",\", low_memory=False)\n",
        "df2 = df2.reindex(np.random.permutation(df2.index))\n",
        "df2.columns = map(str.lower, df2.columns)\n",
        "\n",
        "df2 = df2[COLUMNS]\n",
        "df2.rename(index=str, columns={\"stay_in_current_city_years\": \"city_years\"}, inplace=True)\n",
        "df2.rename(index=str, columns={\"product_category_3\": \"product_category\"}, inplace=True)\n",
        "df2['product_category'] = pd.to_numeric(df2['product_category'], errors='coerce')\n",
        "df2.fillna(0, inplace=True)\n",
        "df2.drop(['user_id','product_id'], inplace=True, axis=1)"
      ],
      "execution_count": 0,
      "outputs": []
    },
    {
      "metadata": {
        "id": "S1ZpRXQVa5db",
        "colab_type": "code",
        "colab": {}
      },
      "cell_type": "code",
      "source": [
        "# Removes product category that are 0 because they were Nans\n",
        "df2 = df2[df2['product_category'] != 0.00]"
      ],
      "execution_count": 0,
      "outputs": []
    },
    {
      "metadata": {
        "id": "oA3CuL9-b4Z6",
        "colab_type": "code",
        "colab": {}
      },
      "cell_type": "code",
      "source": [
        "def input_fn(features, targets, batch_size=1, shuffle=True, num_epochs=None):\n",
        "    \"\"\"Defines a function to preprocess the data, as well as how to batch,\n",
        "      shuffle, and repeat it during model training.\n",
        "  \n",
        "    Args:\n",
        "      features: pandas DataFrame of features\n",
        "      targets: pandas DataFrame of targets\n",
        "      batch_size: Size of batches to be passed to the model\n",
        "      shuffle: True or False. Whether to shuffle the data.\n",
        "      num_epochs: Number of epochs for which data should be repeated. None = repeat indefinitely\n",
        "    Returns:\n",
        "      Tuple of (features, labels) for next data batch\n",
        "    \"\"\"\n",
        "    \n",
        "    # Convert pandas data into a dict of np arrays.\n",
        "    features = {key:np.array(value) for key,value in dict(features).items()}                                           \n",
        " \n",
        "    # Construct a dataset, and configure batching/repeating.\n",
        "    ds = Dataset.from_tensor_slices((features,targets)) # warning: 2GB limit\n",
        "    ds = ds.batch(batch_size).repeat(num_epochs)\n",
        "    \n",
        "    # Shuffle the data, if specified.\n",
        "    if shuffle:\n",
        "      ds = ds.shuffle(10000)\n",
        "    \n",
        "    # Return the next batch of data.\n",
        "    features, labels = ds.make_one_shot_iterator().get_next()\n",
        "    return features, labels"
      ],
      "execution_count": 0,
      "outputs": []
    },
    {
      "metadata": {
        "id": "72g0KDgmfVdm",
        "colab_type": "code",
        "colab": {}
      },
      "cell_type": "code",
      "source": [
        "def make_roc_curve(predictions, targets):\n",
        "  \"\"\" Plots an ROC curve for the provided predictions and targets.\n",
        "\n",
        "  Args:\n",
        "    predictions: the probability that the example has label 1.\n",
        "    targets: a list of the target values being predicted that must be the\n",
        "             same length as predictions.\n",
        "  \"\"\"  \n",
        "  false_positive_rate, true_positive_rate, thresholds = metrics.roc_curve(\n",
        "      targets, predictions)\n",
        "  \n",
        "  plt.ylabel(\"true positive rate\")\n",
        "  plt.xlabel(\"false positive rate\")\n",
        "  plt.plot(false_positive_rate, true_positive_rate)\n",
        "  \n",
        "def plot_learning_curve(training_losses, validation_losses):\n",
        "  \"\"\" Plot the learning curve.\n",
        "  \n",
        "  Args:\n",
        "    training_loses: a list of losses to plot.\n",
        "    validation_losses: a list of validation losses to plot.\n",
        "  \"\"\"        \n",
        "  plt.ylabel('Loss')\n",
        "  plt.xlabel('Training Steps')\n",
        "  plt.plot(training_losses, label=\"training\")\n",
        "  plt.plot(validation_losses, label=\"validation\")\n",
        "  plt.legend(loc=1)"
      ],
      "execution_count": 0,
      "outputs": []
    },
    {
      "metadata": {
        "id": "2Y9W6olifZvF",
        "colab_type": "code",
        "colab": {}
      },
      "cell_type": "code",
      "source": [
        "def compute_loss(probabilities, targets):\n",
        "  \"\"\" Computes the log loss for training a linear classifier.\n",
        "  \n",
        "  Args:\n",
        "    probabilities: the model predictions as probabilities\n",
        "    targets: a list of the target values being predicted that must be the\n",
        "             same length as probabilities.\n",
        "    \n",
        "  Returns:\n",
        "    The log loss for the provided probabilities and targets.\n",
        "  \"\"\"      \n",
        "  return metrics.log_loss(targets, probabilities)"
      ],
      "execution_count": 0,
      "outputs": []
    },
    {
      "metadata": {
        "id": "WWPSqHu6fevD",
        "colab_type": "code",
        "colab": {}
      },
      "cell_type": "code",
      "source": [
        "def define_linear_classifier(learning_rate):\n",
        "  \"\"\" Defines a linear classifer to predict the target.\n",
        "  \n",
        "  Args:\n",
        "    learning_rate: A `float`, the learning rate.\n",
        "    \n",
        "  Returns:\n",
        "    A linear classifier created with the given parameters.\n",
        "  \"\"\"\n",
        "  # n_classes basically tells the function to use softmax(multiple) or sigmoid(binary)\n",
        "  optimizer = tf.train.GradientDescentOptimizer(learning_rate=learning_rate)\n",
        "  optimizer = tf.contrib.estimator.clip_gradients_by_norm(optimizer, 5.0)\n",
        "  linear_classifier = tf.estimator.LinearClassifier(\n",
        "    feature_columns=construct_feature_columns(), n_classes=2,\n",
        "    optimizer=optimizer\n",
        "  )  \n",
        "  return linear_classifier\n",
        "\n",
        "# Function to train a classifier that a learning curve and ROC curve to help\n",
        "# evaluate your model.\n",
        "\n",
        "def train_model(model, training_features, training_labels,\n",
        "                validation_features, validation_labels, steps, batch_size):\n",
        "  \"\"\"Trains a classifier.\n",
        "  \n",
        "  Args:\n",
        "    model: The model to train\n",
        "    training_features: The input features from the training data\n",
        "    training_labels: the labels from the training data\n",
        "    validation_features: The input features from the validation data\n",
        "    validation_labels: the labels from the validation data\n",
        "    steps: A non-zero `int`, the total number of training steps.\n",
        "    batch_size: A non-zero `int`, the batch size.\n",
        "    \n",
        "  Returns:\n",
        "    The trained model\n",
        "  \"\"\"\n",
        "  # In order to see how the model evolves as we train it, we will divide the\n",
        "  # steps into periods and show the model after each period.\n",
        "  periods = 10\n",
        "  steps_per_period = steps / periods\n",
        "  \n",
        "  # Set up the training_input_fn, predict_training_input_fn, and\n",
        "  # predict_validation_input_fn\n",
        "  training_input_fn = lambda: input_fn(training_features, training_labels,\n",
        "                                       batch_size=batch_size)\n",
        "  predict_training_input_fn = lambda: input_fn(training_features,\n",
        "                                               training_labels,\n",
        "                                               num_epochs=1, shuffle=False)\n",
        "  predict_validation_input_fn = lambda: input_fn(validation_features,\n",
        "                                                 validation_labels,\n",
        "                                                 num_epochs=1, shuffle=False)\n",
        "  \n",
        "  # Train the model, but do so inside a loop so that we can periodically assess\n",
        "  # loss metrics.  We store the training losses to generate the training curve\n",
        "  print(\"Training model...\")\n",
        "  training_losses = []\n",
        "  validation_losses = []\n",
        "\n",
        "  for period in range (0, periods):\n",
        "    # Train the classifier for steps_per_period steps\n",
        "    _ = model.train(input_fn=training_input_fn, steps=steps_per_period)      \n",
        "    \n",
        "    # Use the predict method to compute the predictions as probabilities and\n",
        "    # from that the training loss.\n",
        "    probabilities = linear_classifier.predict(input_fn=predict_training_input_fn)\n",
        "    probabilities = np.array([item['probabilities'] for item in probabilities])\n",
        "    training_loss = compute_loss(probabilities, training_labels)\n",
        "    training_losses.append(training_loss) \n",
        "    \n",
        "    # Also compute the validation loss   \n",
        "    probabilities = linear_classifier.predict(input_fn=predict_validation_input_fn)\n",
        "    probabilities = np.array([item['probabilities'] for item in probabilities])\n",
        "    validation_loss = compute_loss(probabilities, validation_labels)\n",
        "    validation_losses.append(validation_loss) \n",
        "    print(\"  Training loss, Validation loss after period %02d : %0.3f, %0.3f\" % \\\n",
        "      (period, training_loss, validation_loss))\n",
        "      \n",
        "  # Now that training is done print the final training and validation loss    \n",
        "  print(\"Final Loss (Log Loss) on the training data: %0.3f\" % training_loss) \n",
        "  print(\"Final Loss (Log Loss) on the validation data: %0.3f\" % validation_loss) \n",
        "  \n",
        "  # Generate a figure with the learning curve on the left and an ROC curve on\n",
        "  # the right.\n",
        "  plt.figure(figsize=(10, 5))\n",
        "  plt.subplot(1, 2, 1)\n",
        "  plt.title(\"Learning Curve (Loss vs time)\")\n",
        "  plot_learning_curve(training_losses, validation_losses)\n",
        "  \n",
        "  plt.subplot(1, 2, 2)\n",
        "  plt.tight_layout(pad=1.1, w_pad=3.0, h_pad=3.0) \n",
        "  plt.title(\"ROC Curve on Validation Data\")\n",
        "  probabilities = linear_classifier.predict(input_fn=predict_validation_input_fn)\n",
        "  probabilities = np.array([item['probabilities'] for item in probabilities])\n",
        "\n",
        "  # ROC curve uses the probability that the label is 1.\n",
        "  make_roc_curve(probabilities[:, 1], validation_data2[LABEL])\n",
        "   \n",
        "  return model"
      ],
      "execution_count": 0,
      "outputs": []
    },
    {
      "metadata": {
        "id": "AVwohGXFfqL2",
        "colab_type": "code",
        "colab": {}
      },
      "cell_type": "code",
      "source": [
        "def construct_feature_columns():\n",
        "  \"\"\"Construct TensorFlow Feature Columns for features\n",
        "  \n",
        "  Returns:\n",
        "    A set of feature columns.\n",
        "  \"\"\"\n",
        "  \n",
        "  # Sample of creating a categorical column with known values.\n",
        "  gender = tf.contrib.layers.sparse_column_with_keys(\n",
        "    column_name=\"gender\", keys=['M', 'F'])\n",
        "  \n",
        "  # Sample of creating a categorical columns with a hash bucket.    \n",
        "  # education = tf.contrib.layers.sparse_column_with_hash_bucket(\"education\", hash_bucket_size=50)\n",
        "  \n",
        "  # Sample of creating a real-valued column that can be used for numeric data.\n",
        "  age = tf.contrib.layers.real_valued_column(\"age\")\n",
        "  marital_status = tf.contrib.layers.real_valued_column(\"marital_status\")\n",
        "  city_years = tf.contrib.layers.real_valued_column(\"city_years\")\n",
        "\n",
        "  # Return the set of all feature columns generated.\n",
        "  feature_columns=[gender, age, marital_status, city_years]\n",
        " \n",
        "  return feature_columns"
      ],
      "execution_count": 0,
      "outputs": []
    },
    {
      "metadata": {
        "id": "Ji7Q3N86cKS2",
        "colab_type": "code",
        "colab": {}
      },
      "cell_type": "code",
      "source": [
        "CATEGORICAL_FEATURES = [\"gender\"]\n",
        "NUMERICAL_FEATURES = [\"age\", \"marital_status\", \"city_years\"]\n",
        "FEATURES = NUMERICAL_FEATURES+CATEGORICAL_FEATURES,\n",
        "LABEL = \"purchase_class\"\n",
        "\n",
        "# Here we define an input functon that uses the training examples generating\n",
        "# batches of 10 examples\n",
        "training_input_fn = lambda: input_fn(\n",
        "    training_data2[FEATURES], training_data2[LABEL], \n",
        "    batch_size=10)\n",
        "\n",
        "# Here we define an input function that will compute the loss over the entire\n",
        "# training set.\n",
        "predict_training_input_fn = lambda: input_fn(\n",
        "    training_data2[FEATURES], training_data2[LABEL], \n",
        "    num_epochs=1, shuffle=False)\n",
        "\n",
        "# Here we define an input function that will compute the loss over the entire\n",
        "# validation set.\n",
        "predict_validation_input_fn = lambda: input_fn(\n",
        "    validation_data2[FEATURES], validation_data2[LABEL], \n",
        "    num_epochs=1, shuffle=False)"
      ],
      "execution_count": 0,
      "outputs": []
    },
    {
      "metadata": {
        "id": "HvVm2GYzM4VG",
        "colab_type": "code",
        "colab": {}
      },
      "cell_type": "code",
      "source": [
        "def prepare_features(dataframe):\n",
        "  \"\"\"Prepares the features for the provided dataset.\n",
        "\n",
        "  Args:\n",
        "    dataframe: A Pandas DataFrame containing the data set.\n",
        "  Returns:\n",
        "    A new DataFrame that contains the features to be used for the model.\n",
        "  \"\"\"\n",
        "  processed_features = dataframe.copy()\n",
        "  \n",
        "  # Replace age and city year ranges with numeric values\n",
        "  processed_features['age'] = (processed_features['age'].apply(lambda x: age_to_value(x)))\n",
        "\n",
        "  processed_features['city_years'] = processed_features['city_years'].apply(lambda x: city_stay(x))\n",
        "\n",
        "  processed_features['city_category'] = processed_features['city_category'].apply(lambda x: city_value(x))\n",
        "\n",
        "  processed_features['purchase'] = clip(processed_features['purchase'], 500, 15000)\n",
        "  #processed_features['gender'] = processed_features['gender'].apply(lambda x: 1 if x == 'M' else 0)\n",
        "  processed_features['product_category'] = processed_features['product_category'].apply(lambda x: int(x))\n",
        "\n",
        "  processed_features[LABEL] = dataframe['purchase'].apply(lambda x: 0 if x <= 2000 else 1)\n",
        "\n",
        "  return processed_features"
      ],
      "execution_count": 0,
      "outputs": []
    },
    {
      "metadata": {
        "id": "9o5MrB5M87uq",
        "colab_type": "code",
        "colab": {}
      },
      "cell_type": "code",
      "source": [
        "n = len(df2.index)\n",
        "training = int((n * 0.1) // 1)\n",
        "validation = int(((n * 0.05) // 1) + training)\n",
        "\n",
        "# Assign a percentage for training data\n",
        "training_data2 = prepare_features(df2.head(training))\n",
        "# Assign a percentage for validation data\n",
        "validation_data2 = prepare_features(df2[training:validation])\n",
        "# Assign a percentage for test data\n",
        "test_data2 = prepare_features(df2[training+validation: training+validation+validation])"
      ],
      "execution_count": 0,
      "outputs": []
    },
    {
      "metadata": {
        "id": "GBaGJadATf5x",
        "colab_type": "code",
        "colab": {}
      },
      "cell_type": "code",
      "source": [
        "#def classify_purchase(series):\n",
        "  \n",
        "  #return series.apply(lambda x: 0 if x <= 5000 else (1 if x <= 12000 else 2))\n",
        "\n",
        "#training_data2['purchase'] = classify_purchase(training_data2['purchase'])\n",
        "#validation_data2['purchase'] = classify_purchase(validation_data2['purchase'])\n",
        "#test_data2['purchase'] = classify_purchase(test_data2['purchase'])"
      ],
      "execution_count": 0,
      "outputs": []
    },
    {
      "metadata": {
        "id": "JWNhrWq9Aeyt",
        "colab_type": "code",
        "outputId": "f85a02eb-6bd8-40b8-9a72-6bc13d34c460",
        "colab": {
          "base_uri": "https://localhost:8080/",
          "height": 425
        }
      },
      "cell_type": "code",
      "source": [
        "print(type(training_data2.iloc[1]['purchase_class']))\n",
        "print(training_data2.head(10))\n"
      ],
      "execution_count": 0,
      "outputs": [
        {
          "output_type": "stream",
          "text": [
            "<class 'numpy.int64'>\n",
            "       gender  age  occupation  city_category  city_years  marital_status  \\\n",
            "381484      F    1           4              1           1               1   \n",
            "221356      M    2           3              1           4               1   \n",
            "313669      M    3           7              2           1               0   \n",
            "163377      M    2          17              2           4               0   \n",
            "453916      M    1          12              0           0               0   \n",
            "390393      M    2           4              1           3               1   \n",
            "270867      M    2           0              1           4               1   \n",
            "524801      M    2          14              1           2               1   \n",
            "359864      M    1           4              2           1               1   \n",
            "224727      M    3          14              0           0               0   \n",
            "\n",
            "        product_category  purchase  purchase_class  \n",
            "381484                14      4189               1  \n",
            "221356                15     11976               1  \n",
            "313669                 9      3262               1  \n",
            "163377                14      6906               1  \n",
            "453916                13     15000               1  \n",
            "390393                 5      8088               1  \n",
            "270867                 6     11852               1  \n",
            "524801                12      2792               1  \n",
            "359864                16      8084               1  \n",
            "224727                16     15000               1  \n"
          ],
          "name": "stdout"
        }
      ]
    },
    {
      "metadata": {
        "id": "UUwYoqgOLIlE",
        "colab_type": "code",
        "outputId": "cf47a4a1-179c-44eb-ed8e-41baddf0ea70",
        "colab": {
          "base_uri": "https://localhost:8080/",
          "height": 586
        }
      },
      "cell_type": "code",
      "source": [
        "CATEGORICAL_FEATURES = [\"gender\"]\n",
        "NUMERICAL_FEATURES = [\"age\", \"occupation\", \"city_category\", \"city_years\", \n",
        "                      \"marital_status\", \"product_category\", \"purchase\"]\n",
        "FEATURES = NUMERICAL_FEATURES+CATEGORICAL_FEATURES\n",
        "LABEL = \"purchase_class\"\n",
        "\n",
        "LEARNING_RATE = 0.0005\n",
        "STEPS = 1000\n",
        "BATCH_SIZE = 50\n",
        "\n",
        "linear_classifier = define_linear_classifier(learning_rate = LEARNING_RATE)\n",
        "linear_classifier = train_model(\n",
        "    linear_classifier, training_data2[FEATURES],\n",
        "    training_data2[LABEL], validation_data2[FEATURES],\n",
        "    validation_data2[LABEL], batch_size=BATCH_SIZE, steps=STEPS)"
      ],
      "execution_count": 0,
      "outputs": [
        {
          "output_type": "stream",
          "text": [
            "Training model...\n",
            "  Training loss, Validation loss after period 00 : 0.385, 0.386\n",
            "  Training loss, Validation loss after period 01 : 0.228, 0.228\n",
            "  Training loss, Validation loss after period 02 : 0.158, 0.156\n",
            "  Training loss, Validation loss after period 03 : 0.131, 0.129\n",
            "  Training loss, Validation loss after period 04 : 0.123, 0.119\n",
            "  Training loss, Validation loss after period 05 : 0.121, 0.117\n",
            "  Training loss, Validation loss after period 06 : 0.119, 0.115\n",
            "  Training loss, Validation loss after period 07 : 0.119, 0.114\n",
            "  Training loss, Validation loss after period 08 : 0.118, 0.114\n",
            "  Training loss, Validation loss after period 09 : 0.118, 0.113\n",
            "Final Loss (Log Loss) on the training data: 0.118\n",
            "Final Loss (Log Loss) on the validation data: 0.113\n"
          ],
          "name": "stdout"
        },
        {
          "output_type": "display_data",
          "data": {
            "image/png": "[encoded data removed]",
            "text/plain": [
              "<matplotlib.figure.Figure at 0x7fa8963e37b8>"
            ]
          },
          "metadata": {
            "tags": []
          }
        }
      ]
    },
    {
      "metadata": {
        "id": "DpE-NT_bqOIJ",
        "colab_type": "code",
        "outputId": "a06c8656-5697-4fda-fe82-df044edab1ab",
        "colab": {
          "base_uri": "https://localhost:8080/",
          "height": 68
        }
      },
      "cell_type": "code",
      "source": [
        "evaluation_metrics = linear_classifier.evaluate(\n",
        " input_fn=predict_validation_input_fn)\n",
        "\n",
        "print(\"AUC on the validation set: %0.2f\" % evaluation_metrics['auc'])\n",
        "print(\"Accuracy on the validation set: %0.2f\" % evaluation_metrics['accuracy'])\n",
        "print(\"Loss on the validation set: %0.2f\" % evaluation_metrics['loss'])"
      ],
      "execution_count": 0,
      "outputs": [
        {
          "output_type": "stream",
          "text": [
            "AUC on the validation set: 0.50\n",
            "Accuracy on the validation set: 0.98\n",
            "Loss on the validation set: 0.11\n"
          ],
          "name": "stdout"
        }
      ]
    },
    {
      "metadata": {
        "id": "bNt6tj0tKRMM",
        "colab_type": "code",
        "colab": {}
      },
      "cell_type": "code",
      "source": [
        "predict_test_input_fn = lambda: input_fn(\n",
        "    test_data2[FEATURES], test_data2[LABEL], \n",
        "    num_epochs=1, shuffle=True)"
      ],
      "execution_count": 0,
      "outputs": []
    },
    {
      "metadata": {
        "id": "gPW0lkVgKSj5",
        "colab_type": "code",
        "colab": {}
      },
      "cell_type": "code",
      "source": [
        "evaluation_metrics = linear_classifier.evaluate(\n",
        " input_fn=predict_test_input_fn)"
      ],
      "execution_count": 0,
      "outputs": []
    },
    {
      "metadata": {
        "id": "Xj-fDDZuKdEN",
        "colab_type": "code",
        "outputId": "56fd074c-0252-4946-c795-6c80a6d41f85",
        "colab": {
          "base_uri": "https://localhost:8080/",
          "height": 68
        }
      },
      "cell_type": "code",
      "source": [
        "print(\"AUC on the test set: %0.2f\" % evaluation_metrics['auc'])\n",
        "print(\"Accuracy on the test set: %0.2f\" % evaluation_metrics['accuracy'])\n",
        "print(\"Loss on the test set: %0.2f\" % evaluation_metrics['loss'])"
      ],
      "execution_count": 0,
      "outputs": [
        {
          "output_type": "stream",
          "text": [
            "AUC on the test set: 0.51\n",
            "Accuracy on the test set: 0.98\n",
            "Loss on the test set: 0.11\n"
          ],
          "name": "stdout"
        }
      ]
    }
  ]
}